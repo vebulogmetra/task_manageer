{
 "cells": [
  {
   "cell_type": "code",
   "execution_count": 1,
   "metadata": {},
   "outputs": [
    {
     "name": "stdout",
     "output_type": "stream",
     "text": [
      "User ReadOnlyColumnCollection(users.email, users.username, users.hashed_password, users.first_name, users.last_name, users.position, users.avatar_url, users.role, users.is_active, users.is_verified, users.created_at, users.id)\n"
     ]
    },
    {
     "ename": "ValidationError",
     "evalue": "10 validation errors for UserGetRelTasks\ntasks.title\n  Field required [type=missing, input_value=[Task ReadOnlyColumnColle...s.updated_at, tasks.id)], input_type=InstrumentedList]\n    For further information visit https://errors.pydantic.dev/2.4/v/missing\ntasks.description\n  Field required [type=missing, input_value=[Task ReadOnlyColumnColle...s.updated_at, tasks.id)], input_type=InstrumentedList]\n    For further information visit https://errors.pydantic.dev/2.4/v/missing\ntasks.status\n  Field required [type=missing, input_value=[Task ReadOnlyColumnColle...s.updated_at, tasks.id)], input_type=InstrumentedList]\n    For further information visit https://errors.pydantic.dev/2.4/v/missing\ntasks.priority\n  Field required [type=missing, input_value=[Task ReadOnlyColumnColle...s.updated_at, tasks.id)], input_type=InstrumentedList]\n    For further information visit https://errors.pydantic.dev/2.4/v/missing\ntasks.due_date\n  Field required [type=missing, input_value=[Task ReadOnlyColumnColle...s.updated_at, tasks.id)], input_type=InstrumentedList]\n    For further information visit https://errors.pydantic.dev/2.4/v/missing\ntasks.creator_id\n  Field required [type=missing, input_value=[Task ReadOnlyColumnColle...s.updated_at, tasks.id)], input_type=InstrumentedList]\n    For further information visit https://errors.pydantic.dev/2.4/v/missing\ntasks.project_id\n  Field required [type=missing, input_value=[Task ReadOnlyColumnColle...s.updated_at, tasks.id)], input_type=InstrumentedList]\n    For further information visit https://errors.pydantic.dev/2.4/v/missing\ntasks.id\n  Field required [type=missing, input_value=[Task ReadOnlyColumnColle...s.updated_at, tasks.id)], input_type=InstrumentedList]\n    For further information visit https://errors.pydantic.dev/2.4/v/missing\ntasks.created_at\n  Field required [type=missing, input_value=[Task ReadOnlyColumnColle...s.updated_at, tasks.id)], input_type=InstrumentedList]\n    For further information visit https://errors.pydantic.dev/2.4/v/missing\ntasks.updated_at\n  Field required [type=missing, input_value=[Task ReadOnlyColumnColle...s.updated_at, tasks.id)], input_type=InstrumentedList]\n    For further information visit https://errors.pydantic.dev/2.4/v/missing",
     "output_type": "error",
     "traceback": [
      "\u001b[0;31m---------------------------------------------------------------------------\u001b[0m",
      "\u001b[0;31mValidationError\u001b[0m                           Traceback (most recent call last)",
      "\u001b[1;32m/home/artem/workdir/coding/pet_prj/task_manageer/nb.ipynb Cell 1\u001b[0m line \u001b[0;36m2\n\u001b[1;32m     <a href='vscode-notebook-cell:/home/artem/workdir/coding/pet_prj/task_manageer/nb.ipynb#W0sZmlsZQ%3D%3D?line=18'>19</a>\u001b[0m         user_model \u001b[39m=\u001b[39m UserGetRelTasks\u001b[39m.\u001b[39mmodel_validate(user_orm)\n\u001b[1;32m     <a href='vscode-notebook-cell:/home/artem/workdir/coding/pet_prj/task_manageer/nb.ipynb#W0sZmlsZQ%3D%3D?line=19'>20</a>\u001b[0m         \u001b[39mprint\u001b[39m(user_model)\n\u001b[0;32m---> <a href='vscode-notebook-cell:/home/artem/workdir/coding/pet_prj/task_manageer/nb.ipynb#W0sZmlsZQ%3D%3D?line=21'>22</a>\u001b[0m \u001b[39mawait\u001b[39;00m main()\n",
      "\u001b[1;32m/home/artem/workdir/coding/pet_prj/task_manageer/nb.ipynb Cell 1\u001b[0m line \u001b[0;36m1\n\u001b[1;32m     <a href='vscode-notebook-cell:/home/artem/workdir/coding/pet_prj/task_manageer/nb.ipynb#W0sZmlsZQ%3D%3D?line=16'>17</a>\u001b[0m user_orm \u001b[39m=\u001b[39m \u001b[39mawait\u001b[39;00m get_user_rel_tasks(db_session\u001b[39m=\u001b[39msession, by_field\u001b[39m=\u001b[39m\u001b[39m\"\u001b[39m\u001b[39memail\u001b[39m\u001b[39m\"\u001b[39m, by_value\u001b[39m=\u001b[39m\u001b[39m\"\u001b[39m\u001b[39mt@t.t\u001b[39m\u001b[39m\"\u001b[39m)\n\u001b[1;32m     <a href='vscode-notebook-cell:/home/artem/workdir/coding/pet_prj/task_manageer/nb.ipynb#W0sZmlsZQ%3D%3D?line=17'>18</a>\u001b[0m \u001b[39mprint\u001b[39m(user_orm)\n\u001b[0;32m---> <a href='vscode-notebook-cell:/home/artem/workdir/coding/pet_prj/task_manageer/nb.ipynb#W0sZmlsZQ%3D%3D?line=18'>19</a>\u001b[0m user_model \u001b[39m=\u001b[39m UserGetRelTasks\u001b[39m.\u001b[39mmodel_validate(user_orm)\n\u001b[1;32m     <a href='vscode-notebook-cell:/home/artem/workdir/coding/pet_prj/task_manageer/nb.ipynb#W0sZmlsZQ%3D%3D?line=19'>20</a>\u001b[0m \u001b[39mprint\u001b[39m(user_model)\n",
      "File \u001b[0;32m~/workdir/coding/pet_prj/task_manageer/.venv/lib/python3.10/site-packages/pydantic/main.py:503\u001b[0m, in \u001b[0;36mBaseModel.model_validate\u001b[0;34m(cls, obj, strict, from_attributes, context)\u001b[0m\n\u001b[1;32m    501\u001b[0m \u001b[39m# `__tracebackhide__` tells pytest and some other tools to omit this function from tracebacks\u001b[39;00m\n\u001b[1;32m    502\u001b[0m __tracebackhide__ \u001b[39m=\u001b[39m \u001b[39mTrue\u001b[39;00m\n\u001b[0;32m--> 503\u001b[0m \u001b[39mreturn\u001b[39;00m \u001b[39mcls\u001b[39;49m\u001b[39m.\u001b[39;49m__pydantic_validator__\u001b[39m.\u001b[39;49mvalidate_python(\n\u001b[1;32m    504\u001b[0m     obj, strict\u001b[39m=\u001b[39;49mstrict, from_attributes\u001b[39m=\u001b[39;49mfrom_attributes, context\u001b[39m=\u001b[39;49mcontext\n\u001b[1;32m    505\u001b[0m )\n",
      "\u001b[0;31mValidationError\u001b[0m: 10 validation errors for UserGetRelTasks\ntasks.title\n  Field required [type=missing, input_value=[Task ReadOnlyColumnColle...s.updated_at, tasks.id)], input_type=InstrumentedList]\n    For further information visit https://errors.pydantic.dev/2.4/v/missing\ntasks.description\n  Field required [type=missing, input_value=[Task ReadOnlyColumnColle...s.updated_at, tasks.id)], input_type=InstrumentedList]\n    For further information visit https://errors.pydantic.dev/2.4/v/missing\ntasks.status\n  Field required [type=missing, input_value=[Task ReadOnlyColumnColle...s.updated_at, tasks.id)], input_type=InstrumentedList]\n    For further information visit https://errors.pydantic.dev/2.4/v/missing\ntasks.priority\n  Field required [type=missing, input_value=[Task ReadOnlyColumnColle...s.updated_at, tasks.id)], input_type=InstrumentedList]\n    For further information visit https://errors.pydantic.dev/2.4/v/missing\ntasks.due_date\n  Field required [type=missing, input_value=[Task ReadOnlyColumnColle...s.updated_at, tasks.id)], input_type=InstrumentedList]\n    For further information visit https://errors.pydantic.dev/2.4/v/missing\ntasks.creator_id\n  Field required [type=missing, input_value=[Task ReadOnlyColumnColle...s.updated_at, tasks.id)], input_type=InstrumentedList]\n    For further information visit https://errors.pydantic.dev/2.4/v/missing\ntasks.project_id\n  Field required [type=missing, input_value=[Task ReadOnlyColumnColle...s.updated_at, tasks.id)], input_type=InstrumentedList]\n    For further information visit https://errors.pydantic.dev/2.4/v/missing\ntasks.id\n  Field required [type=missing, input_value=[Task ReadOnlyColumnColle...s.updated_at, tasks.id)], input_type=InstrumentedList]\n    For further information visit https://errors.pydantic.dev/2.4/v/missing\ntasks.created_at\n  Field required [type=missing, input_value=[Task ReadOnlyColumnColle...s.updated_at, tasks.id)], input_type=InstrumentedList]\n    For further information visit https://errors.pydantic.dev/2.4/v/missing\ntasks.updated_at\n  Field required [type=missing, input_value=[Task ReadOnlyColumnColle...s.updated_at, tasks.id)], input_type=InstrumentedList]\n    For further information visit https://errors.pydantic.dev/2.4/v/missing"
     ]
    }
   ],
   "source": [
    "from src.utils.database import db_manager\n",
    "from src.core.config import settings\n",
    "from src.api_v1.users.crud import get_user_rel_tasks\n",
    "from src.api_v1.users.schemas import UserGetRelTasks\n",
    "\n",
    "db_manager.init(\n",
    "    connection_url=settings.db_alchemy_url,\n",
    "    echo=settings.debug_database,\n",
    ")\n",
    "\n",
    "async def main():\n",
    "    db_manager.init(\n",
    "        connection_url=settings.db_alchemy_url,\n",
    "        echo=settings.debug_database,\n",
    "    )\n",
    "    async with db_manager.scoped_session_dependency() as session:\n",
    "        user_orm = await get_user_rel_tasks(db_session=session, by_field=\"email\", by_value=\"t@t.t\")\n",
    "        print(user_orm)\n",
    "        user_model = UserGetRelTasks.model_validate(user_orm)\n",
    "        print(user_model)\n",
    "\n",
    "await main()"
   ]
  }
 ],
 "metadata": {
  "kernelspec": {
   "display_name": ".venv",
   "language": "python",
   "name": "python3"
  },
  "language_info": {
   "codemirror_mode": {
    "name": "ipython",
    "version": 3
   },
   "file_extension": ".py",
   "mimetype": "text/x-python",
   "name": "python",
   "nbconvert_exporter": "python",
   "pygments_lexer": "ipython3",
   "version": "3.10.0"
  }
 },
 "nbformat": 4,
 "nbformat_minor": 2
}
